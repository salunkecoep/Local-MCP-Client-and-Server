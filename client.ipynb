{
 "cells": [
  {
   "cell_type": "code",
   "execution_count": null,
   "id": "9206c5b9",
   "metadata": {},
   "outputs": [],
   "source": [
    "#!pip install gradio llama-index-llms-ollama llama-index-tools-mcp ollama mcp nest_asyncio llama-index"
   ]
  },
  {
   "cell_type": "code",
   "execution_count": null,
   "id": "fc96a547",
   "metadata": {},
   "outputs": [],
   "source": [
    "from llama_index.llms.ollama import Ollama\n",
    "from llama_index.core import Settings\n",
    "\n",
    "llm = Ollama(model=\"llama3.2\", request_timeout=120.0)\n",
    "Settings.llm = llm"
   ]
  },
  {
   "cell_type": "code",
   "execution_count": null,
   "id": "c36afb87",
   "metadata": {},
   "outputs": [],
   "source": [
    "from llama_index.tools.mcp import BasicMCPClient, McpToolSpec\n",
    "\n",
    "mcp_client = BasicMCPClient(\"http://127.0.0.1:8000/sse\")\n",
    "mcp_tools = McpToolSpec(client=mcp_client) "
   ]
  },
  {
   "cell_type": "code",
   "execution_count": null,
   "id": "7878f3e5",
   "metadata": {},
   "outputs": [],
   "source": [
    "tools = await mcp_tools.to_tool_list_async()"
   ]
  },
  {
   "cell_type": "code",
   "execution_count": null,
   "id": "533bd4ef",
   "metadata": {},
   "outputs": [],
   "source": [
    "SYSTEM_PROMPT = \"\"\"\\\n",
    "You are an AI assistant for Tool Calling.\n",
    "Before you help a user, you need to work with tools to interact with Employee Database.\n",
    "\"\"\""
   ]
  },
  {
   "cell_type": "code",
   "execution_count": null,
   "id": "373b7613",
   "metadata": {},
   "outputs": [],
   "source": [
    "from llama_index.tools.mcp import McpToolSpec\n",
    "from llama_index.core.agent.workflow import FunctionAgent\n",
    "\n",
    "async def get_agent(tools: McpToolSpec):\n",
    "    tools = await tools.to_tool_list_async()\n",
    "    agent = FunctionAgent(\n",
    "        name=\"Employee Information Provider Agent\",\n",
    "        description=\"An agent that can work with Our Employee Information System to give information about employees.\",\n",
    "        tools=tools,\n",
    "        llm=llm,\n",
    "        system_prompt=SYSTEM_PROMPT,\n",
    "    )\n",
    "    return agent"
   ]
  },
  {
   "cell_type": "code",
   "execution_count": null,
   "id": "2173d17e",
   "metadata": {},
   "outputs": [],
   "source": [
    "from llama_index.core.agent.workflow import FunctionAgent\n",
    "from llama_index.core.workflow import Context\n",
    "\n",
    "async def get_employees_information(prompt: str):\n",
    "    agent = await get_agent(mcp_tools)\n",
    "    handler = agent.run(prompt)\n",
    "    response = await handler\n",
    "    return str(response)"
   ]
  },
  {
   "cell_type": "code",
   "execution_count": null,
   "id": "4815e0b0",
   "metadata": {},
   "outputs": [],
   "source": [
    "import gradio as gr\n",
    "\n",
    "iface = gr.Interface(\n",
    "    fn=get_employees_information,\n",
    "    inputs=gr.Textbox(lines=3, label=\"Ask Employee Information\"),\n",
    "    outputs=gr.Textbox(lines=10, label=\"Employee Information\"),\n",
    "    title=\"Agent UI\",\n",
    "    description=\"Talk to the agent\"\n",
    ")\n",
    "\n",
    "iface.launch()\n"
   ]
  }
 ],
 "metadata": {
  "kernelspec": {
   "display_name": "venv",
   "language": "python",
   "name": "python3"
  },
  "language_info": {
   "codemirror_mode": {
    "name": "ipython",
    "version": 3
   },
   "file_extension": ".py",
   "mimetype": "text/x-python",
   "name": "python",
   "nbconvert_exporter": "python",
   "pygments_lexer": "ipython3",
   "version": "3.12.1"
  }
 },
 "nbformat": 4,
 "nbformat_minor": 5
}
